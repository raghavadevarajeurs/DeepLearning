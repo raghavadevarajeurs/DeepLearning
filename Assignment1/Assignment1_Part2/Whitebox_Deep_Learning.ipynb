{
  "nbformat": 4,
  "nbformat_minor": 0,
  "metadata": {
    "colab": {
      "name": "Whitebox_Deep_Learning.ipynb",
      "provenance": [],
      "authorship_tag": "ABX9TyMyZg6FQxpnsNPsYR8R6Mq1",
      "include_colab_link": true
    },
    "kernelspec": {
      "name": "python3",
      "display_name": "Python 3"
    }
  },
  "cells": [
    {
      "cell_type": "markdown",
      "metadata": {
        "id": "view-in-github",
        "colab_type": "text"
      },
      "source": [
        "<a href=\"https://colab.research.google.com/github/raghavadevarajeurs/DeepLearning/blob/main/Assignment1/Assignment1_Part2/Whitebox_Deep_Learning.ipynb\" target=\"_parent\"><img src=\"https://colab.research.google.com/assets/colab-badge.svg\" alt=\"Open In Colab\"/></a>"
      ]
    },
    {
      "cell_type": "markdown",
      "metadata": {
        "id": "5Ko_Bh_o3PZO"
      },
      "source": [
        "TensorFlow, Keras and deep learning with code examples. \n",
        "First we are declaring the batch size and epochs (number of iterations) and training data files located in google storage bucket. "
      ]
    },
    {
      "cell_type": "code",
      "metadata": {
        "id": "weZ_61Q02xNa"
      },
      "source": [
        "BATCH_SIZE = 128\n",
        "EPOCHS = 10\n",
        "\n",
        "training_images_file   = 'gs://mnist-public/train-images-idx3-ubyte'\n",
        "training_labels_file   = 'gs://mnist-public/train-labels-idx1-ubyte'\n",
        "validation_images_file = 'gs://mnist-public/t10k-images-idx3-ubyte'\n",
        "validation_labels_file = 'gs://mnist-public/t10k-labels-idx1-ubyte'"
      ],
      "execution_count": null,
      "outputs": []
    }
  ]
}
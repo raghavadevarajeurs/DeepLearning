{
  "nbformat": 4,
  "nbformat_minor": 0,
  "metadata": {
    "colab": {
      "name": "MINST classifier with basic numpy.ipynb",
      "provenance": [],
      "authorship_tag": "ABX9TyOrkwGLLrcoKV2/4GG9Yek3",
      "include_colab_link": true
    },
    "kernelspec": {
      "name": "python3",
      "display_name": "Python 3"
    },
    "language_info": {
      "name": "python"
    },
    "accelerator": "GPU"
  },
  "cells": [
    {
      "cell_type": "markdown",
      "metadata": {
        "id": "view-in-github",
        "colab_type": "text"
      },
      "source": [
        "<a href=\"https://colab.research.google.com/github/raghavadevarajeurs/DeepLearning/blob/main/Assignment4/MINST_classifier_with_basic_numpy.ipynb\" target=\"_parent\"><img src=\"https://colab.research.google.com/assets/colab-badge.svg\" alt=\"Open In Colab\"/></a>"
      ]
    },
    {
      "cell_type": "code",
      "metadata": {
        "id": "EiOMRF3wt5FK"
      },
      "source": [
        "import numpy as np\n",
        "from keras.datasets import mnist\n",
        "import matplotlib.pyplot as plt\n",
        "import math\n",
        "from keras.preprocessing.image import ImageDataGenerator\n",
        "from IPython.display import clear_output\n",
        "from sklearn.metrics import confusion_matrix\n",
        "import itertools\n",
        "from keras.utils import np_utils\n",
        "import sys\n",
        "np.random.seed(1)"
      ],
      "execution_count": null,
      "outputs": []
    },
    {
      "cell_type": "markdown",
      "metadata": {
        "id": "yw72f4xQe_b6"
      },
      "source": [
        "## Data Importing"
      ]
    },
    {
      "cell_type": "code",
      "metadata": {
        "id": "MugtehVrKN5F"
      },
      "source": [
        "def data_prep(x_train, y_train, x_test, y_test):\n",
        "  #images, labels = (x_train[0:10000].reshape(10000, 28*28)/ 255, y_train[0:10000])\n",
        "  images, labels = (x_train.reshape(len(x_train), 28*28)/ 255, y_train)\n",
        "  one_hot_labels = np.zeros((len(labels), 10))\n",
        "  for i, l in enumerate(labels):\n",
        "    one_hot_labels[i][l] = 1\n",
        "  labels = one_hot_labels\n",
        "  test_images = x_test.reshape(len(x_test), 28*28)/255\n",
        "  test_labels = np.zeros((len(y_test), 10))\n",
        "  for i, l in enumerate(y_test):\n",
        "    test_labels[i][l] = 1\n",
        "  return (images, labels, test_images, test_labels)"
      ],
      "execution_count": null,
      "outputs": []
    },
    {
      "cell_type": "code",
      "metadata": {
        "id": "iYpcyLjCufRP"
      },
      "source": [
        "(x_train, y_train) , (x_test, y_test) = mnist.load_data()\n",
        "images, labels, test_images, test_labels = data_prep(x_train, y_train, x_test, y_test)\n",
        "np.random.seed(1)"
      ],
      "execution_count": null,
      "outputs": []
    },
    {
      "cell_type": "markdown",
      "metadata": {
        "id": "xI6scrRTfKMf"
      },
      "source": [
        "## Previewing the data"
      ]
    },
    {
      "cell_type": "code",
      "metadata": {
        "colab": {
          "base_uri": "https://localhost:8080/",
          "height": 416
        },
        "id": "fQbo4LzTZe0O",
        "outputId": "e08eb49b-bbda-4e6d-becb-4677451f2245"
      },
      "source": [
        "plt.figure(figsize=[10,10])\n",
        "for i in range(6):\n",
        "  plt.subplot(3,3,i+1)\n",
        "  plt.title(\"Label: %i\"%y_train[i])\n",
        "  plt.imshow(x_train[i].reshape([28,28]),cmap='gray')"
      ],
      "execution_count": null,
      "outputs": [
        {
          "output_type": "display_data",
          "data": {
            "image/png": "[encoded data removed]",
            "text/plain": [
              "<Figure size 720x720 with 6 Axes>"
            ]
          },
          "metadata": {
            "tags": [],
            "needs_background": "light"
          }
        }
      ]
    },
    {
      "cell_type": "markdown",
      "metadata": {
        "id": "zWheDIM_fM9Y"
      },
      "source": [
        "## Sampling the data for processing"
      ]
    },
    {
      "cell_type": "code",
      "metadata": {
        "id": "7Te-z3rgUVKF"
      },
      "source": [
        "x_train = x_train[:20000]\n",
        "y_train = y_train[:20000]\n",
        "x_test = x_test[:1000]\n",
        "y_test = y_test[:1000]"
      ],
      "execution_count": null,
      "outputs": []
    },
    {
      "cell_type": "markdown",
      "metadata": {
        "id": "9ud5xWyjfXJ8"
      },
      "source": [
        "## Activation function ReLU and Softmax"
      ]
    },
    {
      "cell_type": "code",
      "metadata": {
        "id": "pSHzkKPquEQ9"
      },
      "source": [
        "relu = lambda x: (x>=0) * x\n",
        "relu2derive = lambda x: x>=0\n",
        "def softmax(x):\n",
        "  temp = np.exp(x)\n",
        "  return temp/np.sum(temp, axis=1, keepdims=True)"
      ],
      "execution_count": null,
      "outputs": []
    },
    {
      "cell_type": "markdown",
      "metadata": {
        "id": "BPwMqwsJfb4R"
      },
      "source": [
        "## Building the Basic Neural Network"
      ]
    },
    {
      "cell_type": "code",
      "metadata": {
        "id": "cfXlo9ROuJ3D"
      },
      "source": [
        "#Class Neural Network:\n",
        "class NNetwork:\n",
        "  def __init__(self, images, batch_size, alpha, iterations, layers, labels,drop_out):\n",
        "    self.images = images\n",
        "    self.batch_size = batch_size\n",
        "    self.alpha = alpha\n",
        "    self.iterations = iterations\n",
        "    self.layers = layers\n",
        "    self.labels = labels\n",
        "    self.drop_out = drop_out\n",
        "\n",
        "#Weights Initialization:    \n",
        "  def ini_weights(self):\n",
        "    weights = [None] * (len(self.layers)-1)\n",
        "    a = [0.204, 0.215, 0.22, 0.328]\n",
        "    for i in range(len(self.layers)-1):\n",
        "      weights[i] = a[i] * np.random.random((self.layers[i], self.layers[i+1])) -0.1\n",
        "    return weights\n",
        "\n",
        "#Activation Function:\n",
        "  def activation(self,l, w,d):\n",
        "    layer = np.dot(l,w)\n",
        "    relu(layer)\n",
        "    if(self.drop_out == True and d==0):\n",
        "      dropout_mask = np.random.randint(2, size = layer.shape)\n",
        "      layer *= dropout_mask * 2\n",
        "    return layer\n",
        "    \n",
        "#Forward propogation function: \n",
        "  def forward_prop(self, layer_in, weights):\n",
        "    ec_layer = []\n",
        "    next_layer = [None] * (len(self.layers)-2)\n",
        "    \n",
        "    ec_layer.append(layer_in)\n",
        "    for i in range(len(self.layers)-2):\n",
        "      d = i\n",
        "      next_layer[i] = self.activation(ec_layer[i], weights[i], d)\n",
        "      ec_layer.append(next_layer[i])\n",
        "    layer_out = softmax(np.dot(ec_layer[-1], weights[-1]))\n",
        "    ec_layer.append(layer_out)\n",
        "    return ec_layer\n",
        "\n",
        "#Backpropogation function:\n",
        "  def back_prop(self, each_layer, batch_start, batch_end, weights):\n",
        "    grad = []\n",
        "    delta = [None] * (len(self.layers)-2)\n",
        "    op_delta = (self.labels[batch_start:batch_end] - each_layer[-1])/self.batch_size\n",
        "    temp = op_delta\n",
        "    for i in range(1,len(each_layer)-1):\n",
        "      delta[-i] = op_delta.dot(weights[-i].T) * relu2derive(each_layer[-i-1])\n",
        "      op_delta = delta[-i]\n",
        "    \n",
        "    for j in range(len(delta)):\n",
        "      grad.append(delta[j])\n",
        "    grad.append(temp)\n",
        "    return grad\n",
        "  \n",
        "#Weight updation:\n",
        "  def weights_up(self, gradients, each_layer,weights, alpha):\n",
        "    for i in range(len(weights)):\n",
        "      weights[i] = weights[i] + self.alpha*np.dot(each_layer[i].T, gradients[i])\n",
        "    return weights\n",
        "\n",
        "#Image augmentation:\n",
        "  def imageAug(self, images):\n",
        "  \n",
        "    images = images.reshape(-1,28,28,1)\n",
        "    datagen = ImageDataGenerator(\n",
        "              rotation_range=10,  \n",
        "              zoom_range = 0.50,  \n",
        "              width_shift_range=0.1, \n",
        "              height_shift_range=0.1)\n",
        "\n",
        "\n",
        "    datagen.fit(images)\n",
        "    batches = datagen.flow(images, batch_size = len(images))\n",
        "    x_batch = next(batches)\n",
        "    x_batch = x_batch.reshape(len(images), 28*28)\n",
        "    return x_batch\n",
        "\n",
        "  def data_augmentation(x_train,y_train,augment_size=5000): \n",
        "        image_generator = ImageDataGenerator(\n",
        "            rotation_range=10,\n",
        "            zoom_range = 0.05, \n",
        "            width_shift_range=0.05,\n",
        "            height_shift_range=0.05,\n",
        "            horizontal_flip=False,\n",
        "            vertical_flip=False, \n",
        "            data_format=\"channels_last\",\n",
        "            zca_whitening=True)\n",
        "        image_generator.fit(x_train, augment=True)       \n",
        "        train_size=len(x_train)\n",
        "        randidx = np.random.randint(train_size, size=augment_size)\n",
        "        x_augmented = x_train[randidx].copy()\n",
        "        y_augmented = y_train[randidx].copy()\n",
        "        x_augmented = image_generator.flow(x_augmented, np.zeros(augment_size),\n",
        "                                    batch_size=augment_size, shuffle=False).next()[0]        \n",
        "        x_train = np.concatenate((x_train, x_augmented))\n",
        "        y_train = np.concatenate((y_train, y_augmented))\n",
        "        train_size = x_train.shape[0]\n",
        "        return x_train, y_train\n",
        "  \n",
        "#Confusion Matrix plot:\n",
        "  def plot_confusion_matrix(self, cm, classes,\n",
        "                          normalize=False,\n",
        "                          title='Confusion matrix',\n",
        "                          cmap=plt.cm.Blues):\n",
        "    \n",
        "    plt.imshow(cm, interpolation='nearest', cmap=cmap)\n",
        "    plt.title(title)\n",
        "    plt.colorbar()\n",
        "    tick_marks = np.arange(len(classes))\n",
        "    plt.xticks(tick_marks, classes, rotation=45)\n",
        "    plt.yticks(tick_marks, classes)\n",
        "\n",
        "    if normalize:\n",
        "        cm = cm.astype('float') / cm.sum(axis=1)[:, np.newaxis]\n",
        "\n",
        "    thresh = cm.max() / 2.\n",
        "    for i, j in itertools.product(range(cm.shape[0]), range(cm.shape[1])):\n",
        "        plt.text(j, i, cm[i, j],\n",
        "                 horizontalalignment=\"center\",\n",
        "                 color=\"white\" if cm[i, j] > thresh else \"black\")\n",
        "\n",
        "    plt.tight_layout()\n",
        "    plt.ylabel('True label')\n",
        "    plt.xlabel('Predicted label')\n",
        "    plt.show()\n",
        "\n",
        " #Training the data with loss function and batch sizes:     \n",
        "  def train_net(self,weights):\n",
        "    alpha = self.alpha\n",
        "    train_loss, train_acc = (0.0, 0)\n",
        "    aug_images = self.images\n",
        "    for i in range(int(len(aug_images)/self.batch_size)):\n",
        "      batch_start, batch_end = (i*self.batch_size, (i+1)*self.batch_size)\n",
        "      layer_in = aug_images[batch_start:batch_end]\n",
        "      each_layer = self.forward_prop(layer_in, weights)\n",
        "      train_loss += np.sum((each_layer[-1] - self.labels[batch_start:batch_end]) **2)\n",
        "      for k in range(self.batch_size):\n",
        "        train_acc += int(np.argmax(each_layer[-1][k:k+1]) == np.argmax(self.labels[batch_start+k:batch_start+k+1]))\n",
        "\n",
        "        gradients = self.back_prop(each_layer, batch_start, batch_end, weights)\n",
        "        weights = self.weights_up(gradients,each_layer, weights, alpha)\n",
        "    \n",
        "    alpha = alpha + 0.000005\n",
        "    \n",
        "    # if(acc>temp):\n",
        "    #   temp = acc\n",
        "    #   g_weights = weights\n",
        "    return (train_loss, train_acc, weights)\n",
        "\n",
        "#Predict model:\n",
        "  def nn_fit(self,test_images, test_labels):\n",
        "    images = self.images\n",
        "    print(images.shape)\n",
        "    weights = self.ini_weights()\n",
        "    tr_loss = []\n",
        "    tes_loss = []\n",
        "    for j in range(self.iterations):\n",
        "      y_pred = []\n",
        "      test_error, test_cnt = (0.0, 0)\n",
        "      train_loss,train_acc,weights = self.train_net(weights)\n",
        "\n",
        "      for i in range(len(test_images)):\n",
        "        layer_in = test_images[i:i+1]\n",
        "        each_layer = self.forward_prop(layer_in, weights)\n",
        "        y = each_layer[-1]\n",
        "        y_pred.append(y)\n",
        "\n",
        "        test_error += np.sum((test_labels[i:i+1] - each_layer[-1]) **2)\n",
        "        test_cnt += int(np.argmax(each_layer[-1]) == np.argmax(test_labels[i:i+1]))\n",
        "\n",
        "      tr_loss.append(train_loss/float(len(images)))\n",
        "      tes_loss.append(test_error/float(len(test_images)))  \n",
        "      print(\"Epoch\",str(j),\" train_loss:\" + str(train_loss/float(len(images)))[0:5], \\\n",
        "            \"Train accuracy:\",format((train_acc/float(len(images))),'.4f'),\\\n",
        "            \"Validation_loss:\" + str(test_error/float(len(test_images)))[0:5], \\\n",
        "            \"Val accuracy:\",format((test_cnt/float(len(test_images))), '.4f'))\n",
        "    \n",
        "    y_pred = np.array(y_pred)\n",
        "    y_pred = y_pred.reshape(1000,10)\n",
        "    return y_pred, tr_loss, tes_loss\n",
        "\n",
        "#Plot the graph\n",
        "  def plot_validation(self, tr_loss, tes_loss):\n",
        "    epoch_count = range(1, len(tr_loss) + 1)\n",
        "\n",
        "    # Visualize loss history\n",
        "    plt.plot(epoch_count, tr_loss, 'r--')\n",
        "    plt.plot(epoch_count, tes_loss, 'b-')\n",
        "    plt.legend(['Training Loss', 'Test Loss'])\n",
        "    plt.xlabel('Epoch')\n",
        "    plt.ylabel('Loss')\n",
        "    plt.grid()\n",
        "    plt.show()\n",
        "\n",
        "#plot the missed predictions\n",
        "  def display_errors(self,errors_index,img_errors,pred_errors, obs_errors):\n",
        "    n = 0\n",
        "    nrows = 2\n",
        "    ncols = 3\n",
        "    fig, ax = plt.subplots(nrows,ncols,sharex=True,sharey=True)\n",
        "    for row in range(nrows):\n",
        "        for col in range(ncols):\n",
        "            error = errors_index[n]\n",
        "            ax[row,col].imshow((img_errors[error]).reshape((28,28)))\n",
        "            ax[row,col].set_title(\"\\nPredicted label :{}\\nTrue label :{}\".format(pred_errors[error],obs_errors[error]))\n",
        "            n += 1\n",
        "    plt.show()"
      ],
      "execution_count": null,
      "outputs": []
    },
    {
      "cell_type": "code",
      "metadata": {
        "id": "7XoDvj8EMMXK"
      },
      "source": [
        "images, labels, test_images, test_labels = data_prep(x_train, y_train, x_test, y_test)"
      ],
      "execution_count": null,
      "outputs": []
    },
    {
      "cell_type": "markdown",
      "metadata": {
        "id": "Ts_XG7ufgEL3"
      },
      "source": [
        "## Initializing the hidden layers"
      ]
    },
    {
      "cell_type": "code",
      "metadata": {
        "id": "xWZqbXi10Esy"
      },
      "source": [
        "image_pixel, num_labels = (784,10)\n",
        "hidden_layers = [256,128,64]\n",
        "layer_size = [image_pixel]\n",
        "for i in range(len(hidden_layers)):\n",
        "  layer_size.append(hidden_layers[i])\n",
        "layer_size.append(num_labels)"
      ],
      "execution_count": null,
      "outputs": []
    },
    {
      "cell_type": "code",
      "metadata": {
        "colab": {
          "base_uri": "https://localhost:8080/"
        },
        "id": "v-315ZGHzAck",
        "outputId": "9a62f9c3-48e4-48af-bf59-1f388121a582"
      },
      "source": [
        "print(layer_size)"
      ],
      "execution_count": null,
      "outputs": [
        {
          "output_type": "stream",
          "text": [
            "[784, 256, 128, 64, 10]\n"
          ],
          "name": "stdout"
        }
      ]
    },
    {
      "cell_type": "markdown",
      "metadata": {
        "id": "GhSdIVaQgMCI"
      },
      "source": [
        "## Model execution with mini batch, learning rate and drop out "
      ]
    },
    {
      "cell_type": "code",
      "metadata": {
        "colab": {
          "base_uri": "https://localhost:8080/",
          "height": 760
        },
        "id": "2YsA161uuiKm",
        "outputId": "7c58679a-0c49-40f1-e697-f97db464c09f"
      },
      "source": [
        "#Initialize Model:\n",
        "model = NNetwork(images=images, batch_size=100, alpha = 0.000224, iterations=10, layers=layer_size, labels=labels, drop_out=True )\n",
        "y_pred, tr_loss, tes_loss = model.nn_fit(test_images, test_labels)\n",
        "\n",
        "Y_pred_classes = np.argmax(y_pred,axis =1) \n",
        "Y_true = np.argmax(test_labels,axis = 1)\n",
        "confusion_mtx = confusion_matrix(Y_true, Y_pred_classes) \n",
        "# plot the confusion matrix\n",
        "model.plot_confusion_matrix(confusion_mtx, classes = range(10))\n",
        "model.plot_validation(tr_loss, tes_loss)"
      ],
      "execution_count": null,
      "outputs": [
        {
          "output_type": "stream",
          "text": [
            "(20000, 784)\n",
            "Epoch 0  train_loss:0.637 Train accuracy: 0.5304 Validation_loss:0.438 Val accuracy: 0.6860\n",
            "Epoch 1  train_loss:0.337 Train accuracy: 0.7701 Validation_loss:0.339 Val accuracy: 0.7680\n",
            "Epoch 2  train_loss:0.281 Train accuracy: 0.8056 Validation_loss:0.305 Val accuracy: 0.7980\n",
            "Epoch 3  train_loss:0.258 Train accuracy: 0.8227 Validation_loss:0.346 Val accuracy: 0.7650\n",
            "Epoch 4  train_loss:0.243 Train accuracy: 0.8342 Validation_loss:0.288 Val accuracy: 0.8050\n",
            "Epoch 5  train_loss:0.231 Train accuracy: 0.8417 Validation_loss:0.327 Val accuracy: 0.7720\n",
            "Epoch 6  train_loss:0.220 Train accuracy: 0.8490 Validation_loss:0.261 Val accuracy: 0.8250\n",
            "Epoch 7  train_loss:0.221 Train accuracy: 0.8498 Validation_loss:0.274 Val accuracy: 0.8210\n",
            "Epoch 8  train_loss:0.211 Train accuracy: 0.8579 Validation_loss:0.306 Val accuracy: 0.7950\n",
            "Epoch 9  train_loss:0.211 Train accuracy: 0.8569 Validation_loss:0.267 Val accuracy: 0.8160\n"
          ],
          "name": "stdout"
        },
        {
          "output_type": "display_data",
          "data": {
            "image/png": "[encoded data removed]",
            "text/plain": [
              "<Figure size 432x288 with 2 Axes>"
            ]
          },
          "metadata": {
            "tags": [],
            "needs_background": "light"
          }
        },
        {
          "output_type": "display_data",
          "data": {
            "image/png": "[encoded data removed]",
            "text/plain": [
              "<Figure size 432x288 with 1 Axes>"
            ]
          },
          "metadata": {
            "tags": [],
            "needs_background": "light"
          }
        }
      ]
    },
    {
      "cell_type": "markdown",
      "metadata": {
        "id": "bWkhyBx7gYRM"
      },
      "source": [
        "## Common errors"
      ]
    },
    {
      "cell_type": "code",
      "metadata": {
        "colab": {
          "base_uri": "https://localhost:8080/",
          "height": 311
        },
        "id": "ovR0YD7C9n6X",
        "outputId": "1467da6e-4d88-4c7d-fc9a-997f38c64957"
      },
      "source": [
        "errors = (Y_pred_classes - Y_true != 0)\n",
        "Y_pred_classes_errors = Y_pred_classes[errors]\n",
        "Y_pred_errors = y_pred[errors]\n",
        "Y_true_errors = Y_true[errors]\n",
        "X_val_errors = test_images[errors]\n",
        "\n",
        "Y_pred_errors_prob = np.max(Y_pred_errors,axis = 1)\n",
        "true_prob_errors = np.diagonal(np.take(Y_pred_errors, Y_true_errors, axis=1))\n",
        "delta_pred_true_errors = Y_pred_errors_prob - true_prob_errors\n",
        "sorted_dela_errors = np.argsort(delta_pred_true_errors)\n",
        "most_important_errors = sorted_dela_errors[-6:]\n",
        "model.display_errors(most_important_errors, X_val_errors, Y_pred_classes_errors, Y_true_errors)"
      ],
      "execution_count": null,
      "outputs": [
        {
          "output_type": "display_data",
          "data": {
            "image/png": "[encoded data removed]",
            "text/plain": [
              "<Figure size 432x288 with 6 Axes>"
            ]
          },
          "metadata": {
            "tags": [],
            "needs_background": "light"
          }
        }
      ]
    },
    {
      "cell_type": "markdown",
      "metadata": {
        "id": "JJaokfsFgfXw"
      },
      "source": [
        "## Augmenting the data"
      ]
    },
    {
      "cell_type": "code",
      "metadata": {
        "id": "2jcWzfavB3RK"
      },
      "source": [
        "xtrain_augmented = x_train\n",
        "ytrain_augmented = y_train\n",
        "\n",
        "xtrain_augmented = xtrain_augmented.reshape(-1,28,28,1)\n",
        "\n",
        "datagen = ImageDataGenerator(\n",
        "        featurewise_center=False, \n",
        "        samplewise_center=False,  \n",
        "        featurewise_std_normalization=False,  \n",
        "        samplewise_std_normalization=False,  \n",
        "        zca_whitening=False,  \n",
        "        rotation_range=10,  \n",
        "        zoom_range = 0.1, \n",
        "        width_shift_range=0.1,  \n",
        "        height_shift_range=0.1, \n",
        "        horizontal_flip=False,  \n",
        "        vertical_flip=False) \n",
        "datagen.fit(xtrain_augmented)"
      ],
      "execution_count": null,
      "outputs": []
    },
    {
      "cell_type": "code",
      "metadata": {
        "id": "avivMYLUKgfG"
      },
      "source": [
        "def data_augmentation(x_train,y_train,augment_size=20000): \n",
        "        image_generator = ImageDataGenerator(\n",
        "            rotation_range=10,\n",
        "            zoom_range = 0.05, \n",
        "            width_shift_range=0.05,\n",
        "            height_shift_range=0.05,\n",
        "            horizontal_flip=False,\n",
        "            vertical_flip=False, \n",
        "            data_format=\"channels_last\",\n",
        "            zca_whitening=True)\n",
        "        image_generator.fit(x_train, augment=True)       \n",
        "        train_size=len(x_train)\n",
        "        randidx = np.random.randint(train_size, size=augment_size)\n",
        "        x_augmented = x_train[randidx].copy()\n",
        "        y_augmented = y_train[randidx].copy()\n",
        "        x_augmented = image_generator.flow(x_augmented, np.zeros(augment_size),\n",
        "                                    batch_size=augment_size, shuffle=False).next()[0]        \n",
        "        x_train = np.concatenate((x_train, x_augmented))\n",
        "        y_train = np.concatenate((y_train, y_augmented))\n",
        "        train_size = x_train.shape[0]\n",
        "        return x_train, y_train"
      ],
      "execution_count": null,
      "outputs": []
    },
    {
      "cell_type": "code",
      "metadata": {
        "colab": {
          "base_uri": "https://localhost:8080/"
        },
        "id": "ak5jmboiCJsS",
        "outputId": "1318d8f9-29f6-4328-b7f4-5ea0ed9f52ac"
      },
      "source": [
        "x_train = x_train.reshape((x_train.shape[0], 28, 28,1))\n",
        "x_train,y_train=data_augmentation(x_train,y_train)\n",
        "\n",
        "images, labels, test_images, test_labels = data_prep(x_train, y_train, x_test, y_test)"
      ],
      "execution_count": null,
      "outputs": [
        {
          "output_type": "stream",
          "text": [
            "/usr/local/lib/python3.7/dist-packages/keras_preprocessing/image/image_data_generator.py:337: UserWarning: This ImageDataGenerator specifies `zca_whitening`, which overrides setting of `featurewise_center`.\n",
            "  warnings.warn('This ImageDataGenerator specifies '\n"
          ],
          "name": "stderr"
        }
      ]
    },
    {
      "cell_type": "markdown",
      "metadata": {
        "id": "vKWabe09gj2c"
      },
      "source": [
        "## Model Execution with augmented data"
      ]
    },
    {
      "cell_type": "code",
      "metadata": {
        "colab": {
          "base_uri": "https://localhost:8080/",
          "height": 761
        },
        "id": "3307ux0Cad4P",
        "outputId": "52054556-f3f2-4707-c29b-aad6e6c6ae54"
      },
      "source": [
        "#Initialize Model:\n",
        "model = NNetwork(images=images, batch_size=100, alpha = 0.000224, iterations=10, layers=layer_size, labels=labels, drop_out=True )\n",
        "y_pred, tr_loss, tes_loss = model.nn_fit(test_images, test_labels)\n",
        "\n",
        "Y_pred_classes = np.argmax(y_pred,axis =1) \n",
        "Y_true = np.argmax(test_labels,axis = 1)\n",
        "confusion_mtx = confusion_matrix(Y_true, Y_pred_classes) \n",
        "# plot the confusion matrix\n",
        "model.plot_confusion_matrix(confusion_mtx, classes = range(10))\n",
        "model.plot_validation(tr_loss, tes_loss)"
      ],
      "execution_count": null,
      "outputs": [
        {
          "output_type": "stream",
          "text": [
            "(45000, 784)\n",
            "Epoch 0  train_loss:0.782 Train accuracy: 0.3948 Validation_loss:0.415 Val accuracy: 0.7200\n",
            "Epoch 1  train_loss:0.644 Train accuracy: 0.5321 Validation_loss:0.338 Val accuracy: 0.7600\n",
            "Epoch 2  train_loss:0.620 Train accuracy: 0.5630 Validation_loss:0.285 Val accuracy: 0.8040\n",
            "Epoch 3  train_loss:0.611 Train accuracy: 0.5773 Validation_loss:0.338 Val accuracy: 0.7800\n",
            "Epoch 4  train_loss:0.603 Train accuracy: 0.5912 Validation_loss:0.247 Val accuracy: 0.8350\n",
            "Epoch 5  train_loss:0.600 Train accuracy: 0.5966 Validation_loss:0.278 Val accuracy: 0.8160\n",
            "Epoch 6  train_loss:0.596 Train accuracy: 0.6025 Validation_loss:0.273 Val accuracy: 0.8090\n",
            "Epoch 7  train_loss:0.593 Train accuracy: 0.6092 Validation_loss:0.246 Val accuracy: 0.8330\n",
            "Epoch 8  train_loss:0.590 Train accuracy: 0.6113 Validation_loss:0.279 Val accuracy: 0.8190\n",
            "Epoch 9  train_loss:0.590 Train accuracy: 0.6136 Validation_loss:0.236 Val accuracy: 0.8430\n"
          ],
          "name": "stdout"
        },
        {
          "output_type": "display_data",
          "data": {
            "image/png": "[encoded data removed]",
            "text/plain": [
              "<Figure size 432x288 with 2 Axes>"
            ]
          },
          "metadata": {
            "tags": [],
            "needs_background": "light"
          }
        },
        {
          "output_type": "display_data",
          "data": {
            "image/png": "[encoded data removed]",
            "text/plain": [
              "<Figure size 432x288 with 1 Axes>"
            ]
          },
          "metadata": {
            "tags": [],
            "needs_background": "light"
          }
        }
      ]
    },
    {
      "cell_type": "code",
      "metadata": {
        "colab": {
          "base_uri": "https://localhost:8080/",
          "height": 311
        },
        "id": "wY6uPf00ah1S",
        "outputId": "9fdd162b-6166-481c-8ed0-e3d971c363ba"
      },
      "source": [
        "errors = (Y_pred_classes - Y_true != 0)\n",
        "Y_pred_classes_errors = Y_pred_classes[errors]\n",
        "Y_pred_errors = y_pred[errors]\n",
        "Y_true_errors = Y_true[errors]\n",
        "X_val_errors = test_images[errors]\n",
        "\n",
        "Y_pred_errors_prob = np.max(Y_pred_errors,axis = 1)\n",
        "true_prob_errors = np.diagonal(np.take(Y_pred_errors, Y_true_errors, axis=1))\n",
        "delta_pred_true_errors = Y_pred_errors_prob - true_prob_errors\n",
        "sorted_dela_errors = np.argsort(delta_pred_true_errors)\n",
        "most_important_errors = sorted_dela_errors[-6:]\n",
        "model.display_errors(most_important_errors, X_val_errors, Y_pred_classes_errors, Y_true_errors)"
      ],
      "execution_count": null,
      "outputs": [
        {
          "output_type": "display_data",
          "data": {
            "image/png": "[encoded data removed]",
            "text/plain": [
              "<Figure size 432x288 with 6 Axes>"
            ]
          },
          "metadata": {
            "tags": [],
            "needs_background": "light"
          }
        }
      ]
    }
  ]
}